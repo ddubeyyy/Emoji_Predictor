{
 "cells": [
  {
   "cell_type": "markdown",
   "id": "4f9516b6",
   "metadata": {},
   "source": [
    "### Loading Dataset"
   ]
  },
  {
   "cell_type": "code",
   "execution_count": 1,
   "id": "b5d575e3",
   "metadata": {},
   "outputs": [
    {
     "data": {
      "text/html": [
       "<div>\n",
       "<style scoped>\n",
       "    .dataframe tbody tr th:only-of-type {\n",
       "        vertical-align: middle;\n",
       "    }\n",
       "\n",
       "    .dataframe tbody tr th {\n",
       "        vertical-align: top;\n",
       "    }\n",
       "\n",
       "    .dataframe thead th {\n",
       "        text-align: right;\n",
       "    }\n",
       "</style>\n",
       "<table border=\"1\" class=\"dataframe\">\n",
       "  <thead>\n",
       "    <tr style=\"text-align: right;\">\n",
       "      <th></th>\n",
       "      <th>Unnamed: 0</th>\n",
       "      <th>emoticons</th>\n",
       "      <th>number</th>\n",
       "    </tr>\n",
       "  </thead>\n",
       "  <tbody>\n",
       "    <tr>\n",
       "      <th>0</th>\n",
       "      <td>0</td>\n",
       "      <td>😜</td>\n",
       "      <td>0</td>\n",
       "    </tr>\n",
       "    <tr>\n",
       "      <th>1</th>\n",
       "      <td>1</td>\n",
       "      <td>📸</td>\n",
       "      <td>1</td>\n",
       "    </tr>\n",
       "    <tr>\n",
       "      <th>2</th>\n",
       "      <td>2</td>\n",
       "      <td>😍</td>\n",
       "      <td>2</td>\n",
       "    </tr>\n",
       "    <tr>\n",
       "      <th>3</th>\n",
       "      <td>3</td>\n",
       "      <td>😂</td>\n",
       "      <td>3</td>\n",
       "    </tr>\n",
       "    <tr>\n",
       "      <th>4</th>\n",
       "      <td>4</td>\n",
       "      <td>😉</td>\n",
       "      <td>4</td>\n",
       "    </tr>\n",
       "    <tr>\n",
       "      <th>5</th>\n",
       "      <td>5</td>\n",
       "      <td>🎄</td>\n",
       "      <td>5</td>\n",
       "    </tr>\n",
       "    <tr>\n",
       "      <th>6</th>\n",
       "      <td>6</td>\n",
       "      <td>📷</td>\n",
       "      <td>6</td>\n",
       "    </tr>\n",
       "    <tr>\n",
       "      <th>7</th>\n",
       "      <td>7</td>\n",
       "      <td>🔥</td>\n",
       "      <td>7</td>\n",
       "    </tr>\n",
       "    <tr>\n",
       "      <th>8</th>\n",
       "      <td>8</td>\n",
       "      <td>😘</td>\n",
       "      <td>8</td>\n",
       "    </tr>\n",
       "    <tr>\n",
       "      <th>9</th>\n",
       "      <td>9</td>\n",
       "      <td>❤</td>\n",
       "      <td>9</td>\n",
       "    </tr>\n",
       "  </tbody>\n",
       "</table>\n",
       "</div>"
      ],
      "text/plain": [
       "   Unnamed: 0 emoticons  number\n",
       "0           0         😜       0\n",
       "1           1         📸       1\n",
       "2           2         😍       2\n",
       "3           3         😂       3\n",
       "4           4         😉       4\n",
       "5           5         🎄       5\n",
       "6           6         📷       6\n",
       "7           7         🔥       7\n",
       "8           8         😘       8\n",
       "9           9         ❤       9"
      ]
     },
     "execution_count": 1,
     "metadata": {},
     "output_type": "execute_result"
    }
   ],
   "source": [
    "import pandas as pd\n",
    "\n",
    "# Load the datasets\n",
    "mapping_df = pd.read_csv('Mapping.csv')\n",
    "train_df = pd.read_csv('Train.csv')\n",
    "test_df = pd.read_csv('Test.csv')\n",
    "\n",
    "# Display the first few rows of each dataset\n",
    "mapping_df.head(10)\n"
   ]
  },
  {
   "cell_type": "code",
   "execution_count": 2,
   "id": "7550bf66",
   "metadata": {},
   "outputs": [
    {
     "data": {
      "text/html": [
       "<div>\n",
       "<style scoped>\n",
       "    .dataframe tbody tr th:only-of-type {\n",
       "        vertical-align: middle;\n",
       "    }\n",
       "\n",
       "    .dataframe tbody tr th {\n",
       "        vertical-align: top;\n",
       "    }\n",
       "\n",
       "    .dataframe thead th {\n",
       "        text-align: right;\n",
       "    }\n",
       "</style>\n",
       "<table border=\"1\" class=\"dataframe\">\n",
       "  <thead>\n",
       "    <tr style=\"text-align: right;\">\n",
       "      <th></th>\n",
       "      <th>Unnamed: 0</th>\n",
       "      <th>TEXT</th>\n",
       "      <th>Label</th>\n",
       "    </tr>\n",
       "  </thead>\n",
       "  <tbody>\n",
       "    <tr>\n",
       "      <th>0</th>\n",
       "      <td>0</td>\n",
       "      <td>Vacation wasted ! #vacation2017 #photobomb #ti...</td>\n",
       "      <td>0</td>\n",
       "    </tr>\n",
       "    <tr>\n",
       "      <th>1</th>\n",
       "      <td>1</td>\n",
       "      <td>Oh Wynwood, you’re so funny! : @user #Wynwood ...</td>\n",
       "      <td>1</td>\n",
       "    </tr>\n",
       "    <tr>\n",
       "      <th>2</th>\n",
       "      <td>2</td>\n",
       "      <td>Been friends since 7th grade. Look at us now w...</td>\n",
       "      <td>2</td>\n",
       "    </tr>\n",
       "    <tr>\n",
       "      <th>3</th>\n",
       "      <td>3</td>\n",
       "      <td>This is what it looks like when someone loves ...</td>\n",
       "      <td>3</td>\n",
       "    </tr>\n",
       "    <tr>\n",
       "      <th>4</th>\n",
       "      <td>4</td>\n",
       "      <td>RT @user this white family was invited to a Bl...</td>\n",
       "      <td>3</td>\n",
       "    </tr>\n",
       "  </tbody>\n",
       "</table>\n",
       "</div>"
      ],
      "text/plain": [
       "   Unnamed: 0                                               TEXT  Label\n",
       "0           0  Vacation wasted ! #vacation2017 #photobomb #ti...      0\n",
       "1           1  Oh Wynwood, you’re so funny! : @user #Wynwood ...      1\n",
       "2           2  Been friends since 7th grade. Look at us now w...      2\n",
       "3           3  This is what it looks like when someone loves ...      3\n",
       "4           4  RT @user this white family was invited to a Bl...      3"
      ]
     },
     "execution_count": 2,
     "metadata": {},
     "output_type": "execute_result"
    }
   ],
   "source": [
    "\n",
    "train_df.head()"
   ]
  },
  {
   "cell_type": "code",
   "execution_count": 3,
   "id": "7ec48d39",
   "metadata": {},
   "outputs": [
    {
     "data": {
      "text/html": [
       "<div>\n",
       "<style scoped>\n",
       "    .dataframe tbody tr th:only-of-type {\n",
       "        vertical-align: middle;\n",
       "    }\n",
       "\n",
       "    .dataframe tbody tr th {\n",
       "        vertical-align: top;\n",
       "    }\n",
       "\n",
       "    .dataframe thead th {\n",
       "        text-align: right;\n",
       "    }\n",
       "</style>\n",
       "<table border=\"1\" class=\"dataframe\">\n",
       "  <thead>\n",
       "    <tr style=\"text-align: right;\">\n",
       "      <th></th>\n",
       "      <th>Unnamed: 0</th>\n",
       "      <th>id</th>\n",
       "      <th>TEXT</th>\n",
       "    </tr>\n",
       "  </thead>\n",
       "  <tbody>\n",
       "    <tr>\n",
       "      <th>0</th>\n",
       "      <td>0</td>\n",
       "      <td>0</td>\n",
       "      <td>Thought this was cool...#Repost (get_repost)・・...</td>\n",
       "    </tr>\n",
       "    <tr>\n",
       "      <th>1</th>\n",
       "      <td>1</td>\n",
       "      <td>1</td>\n",
       "      <td>Happy 4th! Corte madera parade. #everytownusa ...</td>\n",
       "    </tr>\n",
       "    <tr>\n",
       "      <th>2</th>\n",
       "      <td>2</td>\n",
       "      <td>2</td>\n",
       "      <td>Luv. Or at least something close to it. @ Unio...</td>\n",
       "    </tr>\n",
       "    <tr>\n",
       "      <th>3</th>\n",
       "      <td>3</td>\n",
       "      <td>3</td>\n",
       "      <td>There's a slice of pie under that whipped crea...</td>\n",
       "    </tr>\n",
       "    <tr>\n",
       "      <th>4</th>\n",
       "      <td>5</td>\n",
       "      <td>5</td>\n",
       "      <td>#thankyou for your thank you We adore you both...</td>\n",
       "    </tr>\n",
       "  </tbody>\n",
       "</table>\n",
       "</div>"
      ],
      "text/plain": [
       "   Unnamed: 0  id                                               TEXT\n",
       "0           0   0  Thought this was cool...#Repost (get_repost)・・...\n",
       "1           1   1  Happy 4th! Corte madera parade. #everytownusa ...\n",
       "2           2   2  Luv. Or at least something close to it. @ Unio...\n",
       "3           3   3  There's a slice of pie under that whipped crea...\n",
       "4           5   5  #thankyou for your thank you We adore you both..."
      ]
     },
     "execution_count": 3,
     "metadata": {},
     "output_type": "execute_result"
    }
   ],
   "source": [
    "test_df.head()"
   ]
  },
  {
   "cell_type": "markdown",
   "id": "cea277bb",
   "metadata": {},
   "source": [
    "### Data Preprocessing"
   ]
  },
  {
   "cell_type": "code",
   "execution_count": 4,
   "id": "3dbfb652",
   "metadata": {
    "scrolled": false
   },
   "outputs": [
    {
     "data": {
      "text/plain": [
       "(                                                TEXT  \\\n",
       " 0  Vacation wasted ! #vacation2017 #photobomb #ti...   \n",
       " 1  Oh Wynwood, you’re so funny! : @user #Wynwood ...   \n",
       " 2  Been friends since 7th grade. Look at us now w...   \n",
       " 3  This is what it looks like when someone loves ...   \n",
       " 4  RT @user this white family was invited to a Bl...   \n",
       " \n",
       "                                         cleaned_TEXT  \n",
       " 0  Vacation wasted vacation photobomb tired vacat...  \n",
       " 1  Oh Wynwood you re so funny Wynwood Art ItWasAM...  \n",
       " 2  Been friends since th grade Look at us now we ...  \n",
       " 3  This is what it looks like when someone loves ...  \n",
       " 4  RT this white family was invited to a Black ba...  ,\n",
       "                                                 TEXT  \\\n",
       " 0  Thought this was cool...#Repost (get_repost)・・...   \n",
       " 1  Happy 4th! Corte madera parade. #everytownusa ...   \n",
       " 2  Luv. Or at least something close to it. @ Unio...   \n",
       " 3  There's a slice of pie under that whipped crea...   \n",
       " 4  #thankyou for your thank you We adore you both...   \n",
       " \n",
       "                                         cleaned_TEXT  \n",
       " 0  Thought this was cool Repost get_repost Colorv...  \n",
       " 1  Happy th Corte madera parade everytownusa meri...  \n",
       " 2  Luv Or at least something close to it Union Hi...  \n",
       " 3  There s a slice of pie under that whipped crea...  \n",
       " 4  thankyou for your thank you We adore you both ...  )"
      ]
     },
     "execution_count": 4,
     "metadata": {},
     "output_type": "execute_result"
    }
   ],
   "source": [
    "import re\n",
    "\n",
    "def clean_text(text):\n",
    "    # Remove URLs\n",
    "    text = re.sub(r'http\\S+|www\\S+|https\\S+', '', text, flags=re.MULTILINE)\n",
    "    # Remove user @ references and '#' from hashtags\n",
    "    text = re.sub(r'\\@\\w+|\\#','', text)\n",
    "    # Remove special characters, numbers, and punctuations\n",
    "    text = re.sub(r'\\W', ' ', text)\n",
    "    text = re.sub(r'\\d', '', text)\n",
    "    # Remove extra spaces\n",
    "    text = re.sub(r'\\s+', ' ', text).strip()\n",
    "    return text\n",
    "\n",
    "# Apply text cleaning\n",
    "train_df['cleaned_TEXT'] = train_df['TEXT'].apply(clean_text)\n",
    "test_df['cleaned_TEXT'] = test_df['TEXT'].apply(clean_text)\n",
    "\n",
    "train_df[['TEXT', 'cleaned_TEXT']].head(), test_df[['TEXT', 'cleaned_TEXT']].head()"
   ]
  },
  {
   "cell_type": "code",
   "execution_count": 6,
   "id": "a97f5ff3",
   "metadata": {},
   "outputs": [
    {
     "data": {
      "image/png": "[encoded data removed]",
      "text/plain": [
       "<Figure size 1000x600 with 1 Axes>"
      ]
     },
     "metadata": {},
     "output_type": "display_data"
    }
   ],
   "source": [
    "# Data Visualization\n",
    "import matplotlib.pyplot as plt\n",
    "import seaborn as sns\n",
    "from sklearn.metrics import confusion_matrix, classification_report\n",
    "import numpy as np\n",
    "\n",
    "#Visualize the Distribution of Emojis in the Dataset\n",
    "def plot_emoji_distribution(df, column, title):\n",
    "    plt.figure(figsize=(10,6))\n",
    "    sns.countplot(y=column, data=df, order=df[column].value_counts().index)\n",
    "    plt.title(title)\n",
    "    plt.xlabel('Count')\n",
    "    plt.ylabel('Emojis')\n",
    "    plt.show()\n",
    "\n",
    "# Plotting the distribution of emojis in the training dataset\n",
    "plot_emoji_distribution(train_df, 'Label', 'Distribution of Emojis in Training Set')"
   ]
  },
  {
   "cell_type": "markdown",
   "id": "2cf7e25b",
   "metadata": {},
   "source": [
    "### Tokenization and Padding"
   ]
  },
  {
   "cell_type": "code",
   "execution_count": 7,
   "id": "b33892bb",
   "metadata": {},
   "outputs": [],
   "source": [
    "import tensorflow as tf\n",
    "from tensorflow.keras.preprocessing.text import Tokenizer\n",
    "from tensorflow.keras.preprocessing.sequence import pad_sequences\n",
    "from sklearn.model_selection import train_test_split\n",
    "\n",
    "# Tokenization\n",
    "max_words = 10000\n",
    "max_len = 100\n",
    "\n",
    "tokenizer = Tokenizer(num_words=max_words)\n",
    "tokenizer.fit_on_texts(train_df['cleaned_TEXT'])\n",
    "\n",
    "X = tokenizer.texts_to_sequences(train_df['cleaned_TEXT'])\n",
    "X_test = tokenizer.texts_to_sequences(test_df['cleaned_TEXT'])\n",
    "\n",
    "# Padding sequences\n",
    "X = pad_sequences(X, maxlen=max_len)\n",
    "X_test = pad_sequences(X_test, maxlen=max_len)\n",
    "\n",
    "# Convert labels to categorical\n",
    "y = tf.keras.utils.to_categorical(train_df['Label'], num_classes=mapping_df.shape[0])\n",
    "\n",
    "# Split data into training and validation sets\n",
    "X_train, X_val, y_train, y_val = train_test_split(X, y, test_size=0.2, random_state=42)\n"
   ]
  },
  {
   "cell_type": "markdown",
   "id": "0ecd6354",
   "metadata": {},
   "source": [
    "### Model Building and Training"
   ]
  },
  {
   "cell_type": "code",
   "execution_count": 8,
   "id": "aee69e7e",
   "metadata": {
    "scrolled": false
   },
   "outputs": [
    {
     "name": "stdout",
     "output_type": "stream",
     "text": [
      "Epoch 1/5\n",
      "\u001b[1m1750/1750\u001b[0m \u001b[32m━━━━━━━━━━━━━━━━━━━━\u001b[0m\u001b[37m\u001b[0m \u001b[1m130s\u001b[0m 72ms/step - accuracy: 0.2406 - loss: 2.6705 - val_accuracy: 0.3110 - val_loss: 2.3900\n",
      "Epoch 2/5\n",
      "\u001b[1m1750/1750\u001b[0m \u001b[32m━━━━━━━━━━━━━━━━━━━━\u001b[0m\u001b[37m\u001b[0m \u001b[1m122s\u001b[0m 70ms/step - accuracy: 0.3305 - loss: 2.3161 - val_accuracy: 0.3203 - val_loss: 2.3528\n",
      "Epoch 3/5\n",
      "\u001b[1m1750/1750\u001b[0m \u001b[32m━━━━━━━━━━━━━━━━━━━━\u001b[0m\u001b[37m\u001b[0m \u001b[1m109s\u001b[0m 62ms/step - accuracy: 0.3665 - loss: 2.1588 - val_accuracy: 0.3203 - val_loss: 2.3633\n",
      "Epoch 4/5\n",
      "\u001b[1m1750/1750\u001b[0m \u001b[32m━━━━━━━━━━━━━━━━━━━━\u001b[0m\u001b[37m\u001b[0m \u001b[1m109s\u001b[0m 62ms/step - accuracy: 0.4052 - loss: 2.0290 - val_accuracy: 0.3163 - val_loss: 2.4117\n",
      "Epoch 5/5\n",
      "\u001b[1m1750/1750\u001b[0m \u001b[32m━━━━━━━━━━━━━━━━━━━━\u001b[0m\u001b[37m\u001b[0m \u001b[1m111s\u001b[0m 63ms/step - accuracy: 0.4307 - loss: 1.9174 - val_accuracy: 0.3006 - val_loss: 2.5116\n"
     ]
    },
    {
     "data": {
      "text/html": [
       "<pre style=\"white-space:pre;overflow-x:auto;line-height:normal;font-family:Menlo,'DejaVu Sans Mono',consolas,'Courier New',monospace\"><span style=\"font-weight: bold\">Model: \"sequential\"</span>\n",
       "</pre>\n"
      ],
      "text/plain": [
       "\u001b[1mModel: \"sequential\"\u001b[0m\n"
      ]
     },
     "metadata": {},
     "output_type": "display_data"
    },
    {
     "data": {
      "text/html": [
       "<pre style=\"white-space:pre;overflow-x:auto;line-height:normal;font-family:Menlo,'DejaVu Sans Mono',consolas,'Courier New',monospace\">┏━━━━━━━━━━━━━━━━━━━━━━━━━━━━━━━━━┳━━━━━━━━━━━━━━━━━━━━━━━━┳━━━━━━━━━━━━━━━┓\n",
       "┃<span style=\"font-weight: bold\"> Layer (type)                    </span>┃<span style=\"font-weight: bold\"> Output Shape           </span>┃<span style=\"font-weight: bold\">       Param # </span>┃\n",
       "┡━━━━━━━━━━━━━━━━━━━━━━━━━━━━━━━━━╇━━━━━━━━━━━━━━━━━━━━━━━━╇━━━━━━━━━━━━━━━┩\n",
       "│ embedding (<span style=\"color: #0087ff; text-decoration-color: #0087ff\">Embedding</span>)           │ (<span style=\"color: #00af00; text-decoration-color: #00af00\">32</span>, <span style=\"color: #00af00; text-decoration-color: #00af00\">100</span>, <span style=\"color: #00af00; text-decoration-color: #00af00\">128</span>)         │     <span style=\"color: #00af00; text-decoration-color: #00af00\">1,280,000</span> │\n",
       "├─────────────────────────────────┼────────────────────────┼───────────────┤\n",
       "│ lstm (<span style=\"color: #0087ff; text-decoration-color: #0087ff\">LSTM</span>)                     │ (<span style=\"color: #00af00; text-decoration-color: #00af00\">32</span>, <span style=\"color: #00af00; text-decoration-color: #00af00\">100</span>, <span style=\"color: #00af00; text-decoration-color: #00af00\">64</span>)          │        <span style=\"color: #00af00; text-decoration-color: #00af00\">49,408</span> │\n",
       "├─────────────────────────────────┼────────────────────────┼───────────────┤\n",
       "│ dropout (<span style=\"color: #0087ff; text-decoration-color: #0087ff\">Dropout</span>)               │ (<span style=\"color: #00af00; text-decoration-color: #00af00\">32</span>, <span style=\"color: #00af00; text-decoration-color: #00af00\">100</span>, <span style=\"color: #00af00; text-decoration-color: #00af00\">64</span>)          │             <span style=\"color: #00af00; text-decoration-color: #00af00\">0</span> │\n",
       "├─────────────────────────────────┼────────────────────────┼───────────────┤\n",
       "│ lstm_1 (<span style=\"color: #0087ff; text-decoration-color: #0087ff\">LSTM</span>)                   │ (<span style=\"color: #00af00; text-decoration-color: #00af00\">32</span>, <span style=\"color: #00af00; text-decoration-color: #00af00\">64</span>)               │        <span style=\"color: #00af00; text-decoration-color: #00af00\">33,024</span> │\n",
       "├─────────────────────────────────┼────────────────────────┼───────────────┤\n",
       "│ dropout_1 (<span style=\"color: #0087ff; text-decoration-color: #0087ff\">Dropout</span>)             │ (<span style=\"color: #00af00; text-decoration-color: #00af00\">32</span>, <span style=\"color: #00af00; text-decoration-color: #00af00\">64</span>)               │             <span style=\"color: #00af00; text-decoration-color: #00af00\">0</span> │\n",
       "├─────────────────────────────────┼────────────────────────┼───────────────┤\n",
       "│ dense (<span style=\"color: #0087ff; text-decoration-color: #0087ff\">Dense</span>)                   │ (<span style=\"color: #00af00; text-decoration-color: #00af00\">32</span>, <span style=\"color: #00af00; text-decoration-color: #00af00\">20</span>)               │         <span style=\"color: #00af00; text-decoration-color: #00af00\">1,300</span> │\n",
       "└─────────────────────────────────┴────────────────────────┴───────────────┘\n",
       "</pre>\n"
      ],
      "text/plain": [
       "┏━━━━━━━━━━━━━━━━━━━━━━━━━━━━━━━━━┳━━━━━━━━━━━━━━━━━━━━━━━━┳━━━━━━━━━━━━━━━┓\n",
       "┃\u001b[1m \u001b[0m\u001b[1mLayer (type)                   \u001b[0m\u001b[1m \u001b[0m┃\u001b[1m \u001b[0m\u001b[1mOutput Shape          \u001b[0m\u001b[1m \u001b[0m┃\u001b[1m \u001b[0m\u001b[1m      Param #\u001b[0m\u001b[1m \u001b[0m┃\n",
       "┡━━━━━━━━━━━━━━━━━━━━━━━━━━━━━━━━━╇━━━━━━━━━━━━━━━━━━━━━━━━╇━━━━━━━━━━━━━━━┩\n",
       "│ embedding (\u001b[38;5;33mEmbedding\u001b[0m)           │ (\u001b[38;5;34m32\u001b[0m, \u001b[38;5;34m100\u001b[0m, \u001b[38;5;34m128\u001b[0m)         │     \u001b[38;5;34m1,280,000\u001b[0m │\n",
       "├─────────────────────────────────┼────────────────────────┼───────────────┤\n",
       "│ lstm (\u001b[38;5;33mLSTM\u001b[0m)                     │ (\u001b[38;5;34m32\u001b[0m, \u001b[38;5;34m100\u001b[0m, \u001b[38;5;34m64\u001b[0m)          │        \u001b[38;5;34m49,408\u001b[0m │\n",
       "├─────────────────────────────────┼────────────────────────┼───────────────┤\n",
       "│ dropout (\u001b[38;5;33mDropout\u001b[0m)               │ (\u001b[38;5;34m32\u001b[0m, \u001b[38;5;34m100\u001b[0m, \u001b[38;5;34m64\u001b[0m)          │             \u001b[38;5;34m0\u001b[0m │\n",
       "├─────────────────────────────────┼────────────────────────┼───────────────┤\n",
       "│ lstm_1 (\u001b[38;5;33mLSTM\u001b[0m)                   │ (\u001b[38;5;34m32\u001b[0m, \u001b[38;5;34m64\u001b[0m)               │        \u001b[38;5;34m33,024\u001b[0m │\n",
       "├─────────────────────────────────┼────────────────────────┼───────────────┤\n",
       "│ dropout_1 (\u001b[38;5;33mDropout\u001b[0m)             │ (\u001b[38;5;34m32\u001b[0m, \u001b[38;5;34m64\u001b[0m)               │             \u001b[38;5;34m0\u001b[0m │\n",
       "├─────────────────────────────────┼────────────────────────┼───────────────┤\n",
       "│ dense (\u001b[38;5;33mDense\u001b[0m)                   │ (\u001b[38;5;34m32\u001b[0m, \u001b[38;5;34m20\u001b[0m)               │         \u001b[38;5;34m1,300\u001b[0m │\n",
       "└─────────────────────────────────┴────────────────────────┴───────────────┘\n"
      ]
     },
     "metadata": {},
     "output_type": "display_data"
    },
    {
     "data": {
      "text/html": [
       "<pre style=\"white-space:pre;overflow-x:auto;line-height:normal;font-family:Menlo,'DejaVu Sans Mono',consolas,'Courier New',monospace\"><span style=\"font-weight: bold\"> Total params: </span><span style=\"color: #00af00; text-decoration-color: #00af00\">4,091,198</span> (15.61 MB)\n",
       "</pre>\n"
      ],
      "text/plain": [
       "\u001b[1m Total params: \u001b[0m\u001b[38;5;34m4,091,198\u001b[0m (15.61 MB)\n"
      ]
     },
     "metadata": {},
     "output_type": "display_data"
    },
    {
     "data": {
      "text/html": [
       "<pre style=\"white-space:pre;overflow-x:auto;line-height:normal;font-family:Menlo,'DejaVu Sans Mono',consolas,'Courier New',monospace\"><span style=\"font-weight: bold\"> Trainable params: </span><span style=\"color: #00af00; text-decoration-color: #00af00\">1,363,732</span> (5.20 MB)\n",
       "</pre>\n"
      ],
      "text/plain": [
       "\u001b[1m Trainable params: \u001b[0m\u001b[38;5;34m1,363,732\u001b[0m (5.20 MB)\n"
      ]
     },
     "metadata": {},
     "output_type": "display_data"
    },
    {
     "data": {
      "text/html": [
       "<pre style=\"white-space:pre;overflow-x:auto;line-height:normal;font-family:Menlo,'DejaVu Sans Mono',consolas,'Courier New',monospace\"><span style=\"font-weight: bold\"> Non-trainable params: </span><span style=\"color: #00af00; text-decoration-color: #00af00\">0</span> (0.00 B)\n",
       "</pre>\n"
      ],
      "text/plain": [
       "\u001b[1m Non-trainable params: \u001b[0m\u001b[38;5;34m0\u001b[0m (0.00 B)\n"
      ]
     },
     "metadata": {},
     "output_type": "display_data"
    },
    {
     "data": {
      "text/html": [
       "<pre style=\"white-space:pre;overflow-x:auto;line-height:normal;font-family:Menlo,'DejaVu Sans Mono',consolas,'Courier New',monospace\"><span style=\"font-weight: bold\"> Optimizer params: </span><span style=\"color: #00af00; text-decoration-color: #00af00\">2,727,466</span> (10.40 MB)\n",
       "</pre>\n"
      ],
      "text/plain": [
       "\u001b[1m Optimizer params: \u001b[0m\u001b[38;5;34m2,727,466\u001b[0m (10.40 MB)\n"
      ]
     },
     "metadata": {},
     "output_type": "display_data"
    }
   ],
   "source": [
    "from tensorflow.keras.models import Sequential\n",
    "from tensorflow.keras.layers import Embedding, LSTM, Dense, Dropout\n",
    "\n",
    "# Build the model\n",
    "model = Sequential()\n",
    "model.add(Embedding(input_dim=max_words, output_dim=128))\n",
    "model.add(LSTM(64, return_sequences=True))\n",
    "model.add(Dropout(0.5))\n",
    "model.add(LSTM(64))\n",
    "model.add(Dropout(0.5))\n",
    "model.add(Dense(mapping_df.shape[0], activation='softmax'))\n",
    "\n",
    "model.compile(loss='categorical_crossentropy', optimizer='adam', metrics=['accuracy'])\n",
    "\n",
    "# Train the model\n",
    "history = model.fit(X_train, y_train, epochs=5, batch_size=32, validation_data=(X_val, y_val))\n",
    "\n",
    "# Display the model summary\n",
    "model.summary()\n"
   ]
  },
  {
   "cell_type": "code",
   "execution_count": 10,
   "id": "a90e3068",
   "metadata": {},
   "outputs": [
    {
     "data": {
      "image/png": "[encoded data removed]",
      "text/plain": [
       "<Figure size 1400x500 with 2 Axes>"
      ]
     },
     "metadata": {},
     "output_type": "display_data"
    }
   ],
   "source": [
    "#Visualize the Training History\n",
    "def plot_training_history(history):\n",
    "    plt.figure(figsize=(14,5))\n",
    "\n",
    "    # Plot training & validation accuracy values\n",
    "    plt.subplot(1, 2, 1)\n",
    "    plt.plot(history.history['accuracy'])\n",
    "    plt.plot(history.history['val_accuracy'])\n",
    "    plt.title('Model accuracy')\n",
    "    plt.ylabel('Accuracy')\n",
    "    plt.xlabel('Epoch')\n",
    "    plt.legend(['Train', 'Test'], loc='upper left')\n",
    "\n",
    "    # Plot training & validation loss values\n",
    "    plt.subplot(1, 2, 2)\n",
    "    plt.plot(history.history['loss'])\n",
    "    plt.plot(history.history['val_loss'])\n",
    "    plt.title('Model loss')\n",
    "    plt.ylabel('Loss')\n",
    "    plt.xlabel('Epoch')\n",
    "    plt.legend(['Train', 'Test'], loc='upper left')\n",
    "\n",
    "    plt.show()\n",
    "plot_training_history(history)"
   ]
  },
  {
   "cell_type": "markdown",
   "id": "a1f665f2",
   "metadata": {},
   "source": [
    "### Model Evaluation with Additional Metrics"
   ]
  },
  {
   "cell_type": "code",
   "execution_count": 12,
   "id": "b94be4ff",
   "metadata": {
    "scrolled": true
   },
   "outputs": [
    {
     "name": "stdout",
     "output_type": "stream",
     "text": [
      "\u001b[1m1750/1750\u001b[0m \u001b[32m━━━━━━━━━━━━━━━━━━━━\u001b[0m\u001b[37m\u001b[0m \u001b[1m44s\u001b[0m 25ms/step - accuracy: 0.4923 - loss: 1.7071\n",
      "Training Loss: 1.702136754989624\n",
      "Training Accuracy: 0.49385714530944824\n",
      "\u001b[1m1750/1750\u001b[0m \u001b[32m━━━━━━━━━━━━━━━━━━━━\u001b[0m\u001b[37m\u001b[0m \u001b[1m41s\u001b[0m 23ms/step\n",
      "Classification Report on Training Data:\n",
      "               precision    recall  f1-score   support\n",
      "\n",
      "           😜       0.32      0.15      0.20      1275\n",
      "           📸       0.44      0.44      0.44      2061\n",
      "           😍       0.54      0.44      0.49      5668\n",
      "           😂       0.56      0.74      0.64      5458\n",
      "           😉       0.34      0.06      0.10      1506\n",
      "           🎄       0.73      0.85      0.79      1590\n",
      "           📷       0.42      0.09      0.15      1652\n",
      "           🔥       0.72      0.70      0.71      3488\n",
      "           😘       0.47      0.02      0.03      1615\n",
      "           ❤       0.43      0.83      0.57     12042\n",
      "           😁       0.28      0.07      0.12      1366\n",
      "          🇺🇸       0.75      0.71      0.73      1925\n",
      "           ☀       0.52      0.64      0.58      1539\n",
      "           ✨       0.53      0.48      0.50      2606\n",
      "           💙       0.40      0.07      0.12      1876\n",
      "           💕       0.30      0.18      0.23      3115\n",
      "           😎       0.43      0.30      0.35      2245\n",
      "           😊       0.33      0.15      0.21      2220\n",
      "           💜       0.51      0.06      0.10      1364\n",
      "           💯       0.55      0.33      0.41      1389\n",
      "\n",
      "    accuracy                           0.49     56000\n",
      "   macro avg       0.48      0.37      0.37     56000\n",
      "weighted avg       0.48      0.49      0.45     56000\n",
      "\n",
      "Training Precision: 0.48363170062122557\n",
      "Training Recall: 0.4938571428571429\n",
      "Training F1-Score: 0.44722914242906525\n",
      "Confusion Matrix on Training Data:\n",
      " [[  190    10    90   393    37    10     6    36     2   237    40    13\n",
      "     13    41     5    20    33    63     5    31]\n",
      " [    6   904    75   143     7     7    75    85     0   444     7    26\n",
      "     21    81     6    10   116    11     2    35]\n",
      " [    8    49  2509   240     0    46    12    71     1  2366     7    20\n",
      "     65    97    11    75    40    47     3     1]\n",
      " [   27    22   174  4048    10    34     1   112     0   775    12    46\n",
      "     19    10     1     2    77    45     1    42]\n",
      " [  107    16    85   413    86    13     4    33     0   347    54    15\n",
      "     28    75     4    25    77    97     0    27]\n",
      " [    4     1     7    20     1  1356     1    11     0   145     0     5\n",
      "      4    18     2     4     1     9     1     0]\n",
      " [   15   622    83    85     5    11   154    66     1   352     5     8\n",
      "     33    94     4     6    72     8     3    25]\n",
      " [    6    43    91   190     1    14     2  2425     0   510     3    12\n",
      "     15    55     2     9    34     2     5    69]\n",
      " [   31    19    72    69     8    20    12    25    28   911     8    18\n",
      "     28    25    16   240    13    21    21    30]\n",
      " [    3    64   604   325     4   166    10    74     0 10011     1   102\n",
      "    115   174    32   200    76    72     0     9]\n",
      " [   76    14   140   294    19    18     5    32     0   339   101    18\n",
      "     37    43     8    17    53   138     1    13]\n",
      " [    0    14    12    37     0     9     4    13     1   361     0  1373\n",
      "     30    23     3     2    35     6     0     2]\n",
      " [    4    13    52    26     2     1     8    15     0   277     7    12\n",
      "    988    17    24    15    67    10     0     1]\n",
      " [   12    69    82    65    27    53    18    57     1   755     6    18\n",
      "     35  1241     7    57    39    43     6    15]\n",
      " [   13    17    70    40     5    10     7    11     6  1023     7    25\n",
      "     90    25   136   321    23    28    12     7]\n",
      " [   10    18   128    92    11    34     4    20     4  1972     7     9\n",
      "     36    86    32   572    14    41    13    12]\n",
      " [   12    96    73   284     5    14    26    90     1   551    12    50\n",
      "    232    58     6     8   663    28     1    35]\n",
      " [   32    18   201   255    13    26     6    19     1   886    80    43\n",
      "     69   118     7    42    65   334     1     4]\n",
      " [   19     6    51    30     3    12     8    18     8   761     4     2\n",
      "     19    28    29   244     9    17    77    19]\n",
      " [   16    47    15   233    10     4     5   159     5   324     5    14\n",
      "     12    15     5     9    44     7     0   460]]\n",
      "\u001b[1m438/438\u001b[0m \u001b[32m━━━━━━━━━━━━━━━━━━━━\u001b[0m\u001b[37m\u001b[0m \u001b[1m11s\u001b[0m 25ms/step - accuracy: 0.3054 - loss: 2.5087\n",
      "Validation Loss: 2.5115883350372314\n",
      "Validation Accuracy: 0.3005714416503906\n",
      "\u001b[1m438/438\u001b[0m \u001b[32m━━━━━━━━━━━━━━━━━━━━\u001b[0m\u001b[37m\u001b[0m \u001b[1m11s\u001b[0m 25ms/step\n",
      "Classification Report on Validation Data:\n",
      "               precision    recall  f1-score   support\n",
      "\n",
      "           😜       0.04      0.02      0.03       282\n",
      "           📸       0.19      0.16      0.17       531\n",
      "           😍       0.24      0.19      0.21      1408\n",
      "           😂       0.33      0.44      0.38      1384\n",
      "           😉       0.09      0.01      0.02       372\n",
      "           🎄       0.55      0.67      0.60       387\n",
      "           📷       0.14      0.03      0.06       431\n",
      "           🔥       0.40      0.40      0.40       875\n",
      "           😘       0.06      0.00      0.01       377\n",
      "           ❤       0.32      0.63      0.43      3049\n",
      "           😁       0.06      0.01      0.02       355\n",
      "          🇺🇸       0.56      0.50      0.53       509\n",
      "           ☀       0.28      0.36      0.31       370\n",
      "           ✨       0.22      0.20      0.21       644\n",
      "           💙       0.13      0.03      0.04       466\n",
      "           💕       0.11      0.06      0.08       728\n",
      "           😎       0.13      0.08      0.10       587\n",
      "           😊       0.10      0.04      0.06       531\n",
      "           💜       0.16      0.02      0.03       358\n",
      "           💯       0.14      0.08      0.11       356\n",
      "\n",
      "    accuracy                           0.30     14000\n",
      "   macro avg       0.21      0.20      0.19     14000\n",
      "weighted avg       0.25      0.30      0.26     14000\n",
      "\n",
      "Validation Precision: 0.24943436020383733\n",
      "Validation Recall: 0.30057142857142854\n",
      "Validation F1-Score: 0.2560198255466076\n",
      "Confusion Matrix on Validation Data:\n",
      " [[   6    9   32   67    3    3    1   12    0   97    2    6    6   11\n",
      "     3    6    8    6    1    3]\n",
      " [   6   84   35   62    4    3   12   48    0  158    2   12   12   34\n",
      "     3    6   27    8    2   13]\n",
      " [  20   18  271  139    2   24    7   48    3  640    7   14   32   63\n",
      "     3   48   29   25    5   10]\n",
      " [  14   34   98  614   10   17    9   68    2  335    3   17   18   25\n",
      "     4   16   45   14    5   36]\n",
      " [   9   13   35   75    5    5    3   16    0  130    5    5   13   12\n",
      "     2    9   17   12    2    4]\n",
      " [   2    5    8   19    0  258    4    2    0   62    1    4    0   11\n",
      "     1    5    0    4    1    0]\n",
      " [   3   84   23   49    0    7   15   37    0  119    2    5   22   22\n",
      "     0    7   13   11    3    9]\n",
      " [  10   33   41   98    2   15    5  354    2  193    3   12   16   40\n",
      "     1    7   15    5    1   22]\n",
      " [   2    3   31   34    2    9    0   12    1  213    3    5   10    7\n",
      "     7   18    6    6    1    7]\n",
      " [  22   38  239  211    7   64    9   78    3 1921   13   51   56   81\n",
      "    22  115   48   46    4   21]\n",
      " [   6    8   36   67    3   11    3   11    0  142    4    1   15    9\n",
      "     0    5   14   17    1    2]\n",
      " [   3   12   15   22    1    2    4   13    0  123    1  252   19   14\n",
      "     0    5   11    4    0    8]\n",
      " [   3    8   29   19    1    1    3   15    1   92    0    5  132   11\n",
      "     6   13   19    9    0    3]\n",
      " [   8   25   39   49    4   23   10   44    0  227    4    7   23  127\n",
      "     2   16   17   10    0    9]\n",
      " [   3    5   21   23    1    6    1   13    2  272    5    8   11   16\n",
      "    12   38   10    7    3    9]\n",
      " [   7   13   58   49    0    9    3   15    1  445    4   10   10   25\n",
      "     9   45   11    7    2    5]\n",
      " [   7   20   54   90    1    3    7   41    1  191    5   15   45   30\n",
      "     5    4   49    8    0   11]\n",
      " [   5   10   44   72    5    5    5   14    1  229    6   11   27   33\n",
      "     4   16   16   22    1    5]\n",
      " [   3    7   25   18    1    4    2    9    0  220    1    4    8    8\n",
      "     4   22    7    4    6    5]\n",
      " [   2   17   19   92    1    2    2   32    1  120    0    3    5   11\n",
      "     2    3   11    3    0   30]]\n"
     ]
    }
   ],
   "source": [
    "# Evaluate the model on training data\n",
    "from sklearn.metrics import precision_score, recall_score, f1_score, confusion_matrix, classification_report\n",
    "\n",
    "train_loss, train_accuracy = model.evaluate(X_train, y_train)\n",
    "print(f'Training Loss: {train_loss}')\n",
    "print(f'Training Accuracy: {train_accuracy}')\n",
    "\n",
    "# Predict on training data\n",
    "y_train_pred = model.predict(X_train).argmax(axis=1)\n",
    "y_train_true = y_train.argmax(axis=1)\n",
    "\n",
    "# Classification report for training data\n",
    "train_report = classification_report(y_train_true, y_train_pred, target_names=mapping_df['emoticons'])\n",
    "print(\"Classification Report on Training Data:\\n\", train_report)\n",
    "\n",
    "# Precision, Recall, and F1-Score for training data\n",
    "train_precision = precision_score(y_train_true, y_train_pred, average='weighted')\n",
    "train_recall = recall_score(y_train_true, y_train_pred, average='weighted')\n",
    "train_f1 = f1_score(y_train_true, y_train_pred, average='weighted')\n",
    "\n",
    "print(f'Training Precision: {train_precision}')\n",
    "print(f'Training Recall: {train_recall}')\n",
    "print(f'Training F1-Score: {train_f1}')\n",
    "\n",
    "# Confusion matrix for training data\n",
    "train_conf_matrix = confusion_matrix(y_train_true, y_train_pred)\n",
    "print(\"Confusion Matrix on Training Data:\\n\", train_conf_matrix)\n",
    "\n",
    "# Evaluate the model on validation data\n",
    "val_loss, val_accuracy = model.evaluate(X_val, y_val)\n",
    "print(f'Validation Loss: {val_loss}')\n",
    "print(f'Validation Accuracy: {val_accuracy}')\n",
    "\n",
    "# Predict on validation data\n",
    "y_val_pred = model.predict(X_val).argmax(axis=1)\n",
    "y_val_true = y_val.argmax(axis=1)\n",
    "\n",
    "# Classification report for validation data\n",
    "val_report = classification_report(y_val_true, y_val_pred, target_names=mapping_df['emoticons'])\n",
    "print(\"Classification Report on Validation Data:\\n\", val_report)\n",
    "\n",
    "# Precision, Recall, and F1-Score for validation data\n",
    "val_precision = precision_score(y_val_true, y_val_pred, average='weighted')\n",
    "val_recall = recall_score(y_val_true, y_val_pred, average='weighted')\n",
    "val_f1 = f1_score(y_val_true, y_val_pred, average='weighted')\n",
    "\n",
    "print(f'Validation Precision: {val_precision}')\n",
    "print(f'Validation Recall: {val_recall}')\n",
    "print(f'Validation F1-Score: {val_f1}')\n",
    "\n",
    "# Confusion matrix for validation data\n",
    "val_conf_matrix = confusion_matrix(y_val_true, y_val_pred)\n",
    "print(\"Confusion Matrix on Validation Data:\\n\", val_conf_matrix)"
   ]
  },
  {
   "cell_type": "markdown",
   "id": "76624c80",
   "metadata": {},
   "source": [
    "### Prediction on Test Data"
   ]
  },
  {
   "cell_type": "code",
   "execution_count": 13,
   "id": "cd65f8aa",
   "metadata": {},
   "outputs": [
    {
     "name": "stdout",
     "output_type": "stream",
     "text": [
      "\u001b[1m812/812\u001b[0m \u001b[32m━━━━━━━━━━━━━━━━━━━━\u001b[0m\u001b[37m\u001b[0m \u001b[1m20s\u001b[0m 24ms/step\n",
      "                                                 TEXT Predicted_Emojis\n",
      "0   Thought this was cool...#Repost (get_repost)・・...                📸\n",
      "1   Happy 4th! Corte madera parade. #everytownusa ...               🇺🇸\n",
      "2   Luv. Or at least something close to it. @ Unio...                😉\n",
      "3   There's a slice of pie under that whipped crea...                😍\n",
      "4   #thankyou for your thank you We adore you both...                ❤\n",
      "5   the SPECIAL4U Lyric video will be posted on my...                ❤\n",
      "6   Momma Tanya's In town ! Awesome dinner @user w...                ❤\n",
      "7                 Thing 1 and Thing 2 @ Huron, Ohio\\n                ❤\n",
      "8   Bday girl and some random @ Sheraton New York ...                😂\n",
      "9   Always fun with my forever wedding date Congra...                ❤\n",
      "10  La La Land @ Griffith Park Observatory-Los Ang...                ☀\n",
      "11          Friends. #Seattle @ Seattle, Washington\\n                ❤\n",
      "12  #GETIT #GOTIT #GOOD #WHATEVERIWANT #BOW @ Oakl...                ❤\n",
      "13  Hanging with my bestie for the day ️#mtlove #h...                😍\n",
      "14  Stoked to be sitting in with @user at the @use...                😎\n",
      "15  S/O Luxe Doll @user Her YouTube review on her ...                😘\n",
      "16  We’re proud to be Americans #sas2017 #tpusa @ ...               🇺🇸\n",
      "17  - This was gonna be my lunch for tommorow....B...                ❤\n",
      "18  Winter or summer, Chicago is pretty any time o...                ❤\n",
      "19  Shoutout to Delores and Herbert for the drinks...                ❤\n",
      "20  One of my favorite gyms FREE Fucking membershi...                😂\n",
      "21  Hanging with this guy today Thank you @user fo...                ❤\n",
      "22           mood today @ Parkway North High School\\n                😂\n",
      "23                     Chandelier @ Widener Library\\n                😍\n",
      "24  Sorry to jump on the bandwagon. #thisfilterise...                😂\n",
      "25                        ️ @ Princeton, New Jersey\\n                ❤\n",
      "26                My main man @ Gladstone, Missouri\\n                ❤\n",
      "27  Eat shit Irma #ghostriotradio #hurricaneirma #...                😂\n",
      "28  Max went on his first aquarium trip and went o...                😂\n",
      "29  #ikea #fun #me ... oh this dam store, it's lik...                😁\n",
      "30  It's like I blinked and 2 years just flew by @...                ❤\n",
      "31  When moment you meet your future husband!!! @u...                😍\n",
      "32  We were working so hard today @ McDonald's at ...                😍\n",
      "33  \"No Flocking\" shot by @user coming soon! #LSV2...                📸\n",
      "34  @user Dj Ivan G! One Mixer, One Man, One Dj, T...                🔥\n",
      "35  the only michigan state fan I can actually put...                😂\n",
      "36  Face of an angel... ️ #dogsofinstagram #bulldo...                ❤\n",
      "37  At drop in's - we wear pink. #YouAreWhatYouNet...                💕\n",
      "38  i just wanna feel what I feel, when its just u...                ❤\n",
      "39  Another one from my fav spot #dtlaeveryday #ca...                📷\n",
      "40  Willy's point of view is...bumpy #gopro #gopro...                😎\n",
      "41  i like this movie &amp; also recommend to watc...                😂\n",
      "42  Red White &amp; Boujee #doitlooklikeiwasleftof...               🇺🇸\n",
      "43  You really are one in a Emily-on @ Copper Beec...                ❤\n",
      "44  {blessed} with the sisters beside me and the l...                💕\n",
      "45  Put Me In Coach ft @user @user coming soon #ch...                😂\n",
      "46  1st place in Prose Reading! @ Park Hill High S...                😎\n",
      "47  Spiderman (@ Century 20 Daly City - @user in D...                ❤\n",
      "48  Oh the weather outside is frightful but my fir...                🔥\n",
      "49  They pulled me out of line to take this selfie...                ❤\n"
     ]
    }
   ],
   "source": [
    "# Predict on the test set\n",
    "predictions = model.predict(X_test)\n",
    "predicted_labels = predictions.argmax(axis=1)\n",
    "\n",
    "# Map predicted labels to emojis\n",
    "predicted_emojis = [mapping_df[mapping_df['number'] == label]['emoticons'].values[0] for label in predicted_labels]\n",
    "\n",
    "# Add predictions to the test dataframe\n",
    "test_df['Predicted_Emojis'] = predicted_emojis\n",
    "\n",
    "# Display the predictions\n",
    "print(test_df[['TEXT', 'Predicted_Emojis']].head(50))\n"
   ]
  }
 ],
 "metadata": {
  "kernelspec": {
   "display_name": "Python 3 (ipykernel)",
   "language": "python",
   "name": "python3"
  },
  "language_info": {
   "codemirror_mode": {
    "name": "ipython",
    "version": 3
   },
   "file_extension": ".py",
   "mimetype": "text/x-python",
   "name": "python",
   "nbconvert_exporter": "python",
   "pygments_lexer": "ipython3",
   "version": "3.11.5"
  }
 },
 "nbformat": 4,
 "nbformat_minor": 5
}
